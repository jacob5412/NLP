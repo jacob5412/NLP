{
 "cells": [
  {
   "cell_type": "code",
   "execution_count": null,
   "metadata": {},
   "outputs": [],
   "source": [
    "#!/usr/bin/env python3\n",
    "# -*- coding: utf-8 -*-\n",
    "\"\"\"\n",
    "\n",
    "@author: jacob\n",
    "\n",
    "\"\"\"\n",
    "import nltk\n",
    "from nltk.corpus import stopwords\n",
    "from nltk.corpus import inaugural\n",
    "from nltk.corpus import wordnet as wn\n",
    "from nltk.tokenize import TweetTokenizer\n",
    "import tweepy\n",
    "\n",
    "##Using Obama's inaugural speech\n",
    "Obama = inaugural.words(fileids = '2009-Obama.txt')\n",
    "\n",
    "##stopword removal\n",
    "stop_words = set(stopwords.words('english')) \n",
    "filtered_sentence = [w for w in Obama if not w in stop_words]\n",
    "print(\"After stopword removal: \", Obama)"
   ]
  },
  {
   "cell_type": "code",
   "execution_count": null,
   "metadata": {},
   "outputs": [],
   "source": [
    "##CMU wordlist\n",
    "entries = nltk.corpus.cmudict.entries()\n",
    "print(\"Number of entries: \", len(entries))\n",
    "for entry in entries[10000:10025]:\n",
    "    print(\"CMU word list: \", entry)"
   ]
  },
  {
   "cell_type": "code",
   "execution_count": null,
   "metadata": {},
   "outputs": [],
   "source": [
    "##Wordnet\n",
    "id = wn.synsets('motorcar') #you get an id for subsets\n",
    "id[0].lemma_names() #head words/lemmas in the subset"
   ]
  },
  {
   "cell_type": "code",
   "execution_count": null,
   "metadata": {
    "scrolled": true
   },
   "outputs": [],
   "source": [
    "##NLTK pipeline\n",
    "\n",
    "texts = [\"\"\"This is a sentence. So is this one.\"\"\"] #paste text after the three quotes, organize into lines\n",
    "\n",
    "for text in texts:\n",
    "    sentences = nltk.sent_tokenize(text)\n",
    "    for sentence in sentences:\n",
    "        words = nltk.word_tokenize(sentence)\n",
    "        tagged_words = nltk.pos_tag(words)\n",
    "        print(tagged_words)\n",
    "    "
   ]
  },
  {
   "cell_type": "code",
   "execution_count": null,
   "metadata": {},
   "outputs": [],
   "source": [
    "##Implementing tokenization\n",
    "#Twitter aware tokenizer\n",
    "\n",
    "auth = tweepy.OAuthHandler(\"---\", \"---\")\n",
    "auth.set_access_token(\"---\", \"---\")\n",
    "\n",
    "api = tweepy.API(auth)\n",
    "\n",
    "public_tweets = api.home_timeline()\n",
    "tknzr = TweetTokenizer()\n",
    "for tweet in public_tweets:\n",
    "    print(\"Tweet: \",tweet.text)\n",
    "    sent = nltk.sent_tokenize(tweet.text)\n",
    "    print(\"Sentence tokenization: \", sent)\n",
    "    word = nltk.word_tokenize(tweet.text)\n",
    "    print(\"Word tokenization: \", word)\n",
    "    tweett = tknzr.tokenize(tweet.text)\n",
    "    print(\"Tweet tokenized: \",tweett)\n",
    "    print(\"\\n\")"
   ]
  },
  {
   "cell_type": "code",
   "execution_count": null,
   "metadata": {},
   "outputs": [],
   "source": []
  }
 ],
 "metadata": {
  "kernelspec": {
   "display_name": "Python 3.7.13 ('nlp')",
   "language": "python",
   "name": "python3"
  },
  "language_info": {
   "codemirror_mode": {
    "name": "ipython",
    "version": 3
   },
   "file_extension": ".py",
   "mimetype": "text/x-python",
   "name": "python",
   "nbconvert_exporter": "python",
   "pygments_lexer": "ipython3",
   "version": "3.7.13"
  },
  "vscode": {
   "interpreter": {
    "hash": "0b67bd2da1f3927c3259200cc1047614b18d0a80d466d65ca2a36f3218830a0e"
   }
  }
 },
 "nbformat": 4,
 "nbformat_minor": 2
}
