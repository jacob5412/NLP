{
 "cells": [
  {
   "cell_type": "code",
   "execution_count": null,
   "metadata": {
    "scrolled": true
   },
   "outputs": [],
   "source": [
    "\"\"\"\n",
    "Program to import Obama's 2006 inaugurual speech and display the frequency of the top five occuring words\n",
    "Course: CSE4022 - Natural Language Processing\n",
    "Author: Jacob\n",
    "\"\"\"\n",
    "import nltk\n",
    "import re\n",
    "from nltk.corpus import inaugural \n",
    "\n",
    "#import Obama's speech\n",
    "Obama = inaugural.words(fileids = '2009-Obama.txt')\n",
    "\n",
    "#declaring a dictionary for word frequency\n",
    "word_freq = {}\n",
    "for tok in Obama:\n",
    "    if tok in word_freq:\n",
    "        word_freq[tok] += 1\n",
    "    else:\n",
    "        word_freq[tok] = 1\n",
    "\n",
    "#finding top five most frequent words\n",
    "max_dict = {}\n",
    "while len(max_dict) < 5:\n",
    "    max_val = 0\n",
    "    for key in word_freq:\n",
    "        if max_val < word_freq[key] and re.match(r'[A-Za-z]+',key) and key not in max_dict:\n",
    "            max_key = key\n",
    "            max_val = word_freq[key]\n",
    "    max_dict[max_key] = max_val\n",
    "\n",
    "#displaying frequency distribution\n",
    "print(\"The five most frequent words are: \")\n",
    "for key in max_dict:\n",
    "    print(key+\":\",max_dict[key])\n",
    "    \n",
    "#plotting\n",
    "fd = nltk.FreqDist(Obama)\n",
    "fd.plot(30,cumulative=False)"
   ]
  },
  {
   "cell_type": "markdown",
   "metadata": {},
   "source": []
  }
 ],
 "metadata": {
  "kernelspec": {
   "display_name": "Python 3",
   "language": "python",
   "name": "python3"
  },
  "language_info": {
   "codemirror_mode": {
    "name": "ipython",
    "version": 3
   },
   "file_extension": ".py",
   "mimetype": "text/x-python",
   "name": "python",
   "nbconvert_exporter": "python",
   "pygments_lexer": "ipython3",
   "version": "3.6.4"
  }
 },
 "nbformat": 4,
 "nbformat_minor": 2
}
