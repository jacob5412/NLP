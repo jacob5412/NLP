{
 "cells": [
  {
   "cell_type": "code",
   "execution_count": null,
   "metadata": {},
   "outputs": [],
   "source": [
    "# Download stanford segmenter and unzip it\n",
    "# >> wget http://nlp.stanford.edu/software/stanford-segmenter-2018-02-27.zip\n",
    "# >> unzip stanford-segmenter-2018-02-27.zip\n",
    "# Download stanford pos tagger full and unzip it\n",
    "# >> wget http://nlp.stanford.edu/software/stanford-postagger-full-2018-02-2.zip\n",
    "# >> unzip stanford-postagger-full-2018-02-2.zip\n",
    "# make sure the folder is in the same directory\n",
    "# example chinese data for input: 应有尽有的丰富选择定将为您的旅程增添无数的赏心乐事\n",
    "import subprocess\n",
    "import os\n",
    "\n",
    "path = os.path.expanduser(\"~/Downloads/\") #directory where segmenter is stored\n",
    "os.chdir(path)\n",
    "text = input(\"Enter chinese text: \")\n",
    "text = \"echo '\" + text + \"' > input.txt\"\n",
    "subprocess.run(text, shell=True, check=True)\n",
    "subprocess.run(\n",
    "    'bash stanford-segmenter-2018-02-27/segment.sh ctb input.txt UTF-8 0 > output.txt', shell=True)\n",
    "print(\"\\nSegmented text is:\")\n",
    "subprocess.run('cat output.txt', shell=True, check=True)\n",
    "f = open('output.txt', 'r')\n",
    "text2 = f.read() #reading segmented text as input\n",
    "print(text2)\n",
    "wd = os.getcwd()\n",
    "path = os.path.expanduser(\"~/Downloads/stanford-postagger-full-2018-02-27/\") #directory where POS tagger was unzipped on my computer\n",
    "os.chdir(path)\n",
    "text2 = \"echo '\" + text2 + \"' > input.txt\"\n",
    "subprocess.run(text2, shell=True, check=True)\n",
    "subprocess.run('bash stanford-postagger.sh models/chinese-distsim.tagger input.txt > output.txt', shell=True)\n",
    "f = open('output.txt', 'r')\n",
    "text3 = f.read() #reading tagged text as input\n",
    "print(\"\\nAfter adding POS tags:\")\n",
    "print(text3)\n",
    "subprocess.run('cat output.txt', shell=True, check=True)\n",
    "os.chdir(wd)\n"
   ]
  },
  {
   "cell_type": "code",
   "execution_count": null,
   "metadata": {},
   "outputs": [],
   "source": []
  }
 ],
 "metadata": {
  "kernelspec": {
   "display_name": "Python 3",
   "language": "python",
   "name": "python3"
  },
  "language_info": {
   "codemirror_mode": {
    "name": "ipython",
    "version": 3
   },
   "file_extension": ".py",
   "mimetype": "text/x-python",
   "name": "python",
   "nbconvert_exporter": "python",
   "pygments_lexer": "ipython3",
   "version": "3.6.6"
  }
 },
 "nbformat": 4,
 "nbformat_minor": 2
}
